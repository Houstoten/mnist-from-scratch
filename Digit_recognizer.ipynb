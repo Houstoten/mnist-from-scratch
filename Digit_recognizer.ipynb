{
 "cells": [
  {
   "cell_type": "code",
   "execution_count": 17,
   "id": "2d8d3a1d",
   "metadata": {},
   "outputs": [
    {
     "name": "stdout",
     "output_type": "stream",
     "text": [
      "iteration  1  accuracy:  0.37352380952380954\n",
      "iteration  2  accuracy:  0.12097619047619047\n",
      "iteration  3  accuracy:  0.3613571428571429\n",
      "iteration  4  accuracy:  0.45654761904761904\n",
      "iteration  5  accuracy:  0.6405238095238095\n",
      "iteration  6  accuracy:  0.6758333333333333\n",
      "iteration  7  accuracy:  0.6908095238095238\n",
      "iteration  8  accuracy:  0.7092857142857143\n",
      "iteration  9  accuracy:  0.7525238095238095\n",
      "iteration  10  accuracy:  0.7893809523809524\n",
      "Final cross-entropy loss is 0.82403982\n",
      "Final training accuracy is 78.9381%\n"
     ]
    },
    {
     "name": "stderr",
     "output_type": "stream",
     "text": [
      "/tmp/ipykernel_32030/3529205213.py:185: VisibleDeprecationWarning: Creating an ndarray from ragged nested sequences (which is a list-or-tuple of lists-or-tuples-or ndarrays with different lengths or shapes) is deprecated. If you meant to do this, you must specify 'dtype=object' when creating the ndarray.\n",
      "  print(np.array(W).shape, np.array(b).shape)\n"
     ]
    },
    {
     "name": "stdout",
     "output_type": "stream",
     "text": [
      "(2,) (1, 256)\n"
     ]
    },
    {
     "data": {
      "image/png": "[encoded data removed]",
      "text/plain": [
       "<Figure size 432x288 with 10 Axes>"
      ]
     },
     "metadata": {
      "needs_background": "light"
     },
     "output_type": "display_data"
    }
   ],
   "source": [
    "import os\n",
    "import numpy as np\n",
    "from scipy.io import loadmat\n",
    "import matplotlib.pyplot as plt\n",
    "import pandas as pd\n",
    "%matplotlib inline\n",
    "\n",
    "train_data = pd.read_csv(\"./train.csv\")\n",
    "test_data = pd.read_csv(\"./test.csv\")\n",
    "\n",
    "# Set up the data\n",
    "y_train = train_data['label'].values\n",
    "X_train = train_data.drop(columns=['label']).values/255\n",
    "X_test = test_data.values/255\n",
    "\n",
    "\n",
    "def relu(x):\n",
    "    x[x < 0] = 0\n",
    "    return x\n",
    "\n",
    "\n",
    "def h(X, W, b):\n",
    "    '''\n",
    "    Hypothesis function: simple FNN with 1 hidden layer\n",
    "    Layer 1: input\n",
    "    Layer 2: hidden layer, with a size implied by the arguments W[0], b\n",
    "    Layer 3: output layer, with a size implied by the arguments W[1]\n",
    "    '''\n",
    "    # layer 1 = input layer\n",
    "    a1 = X\n",
    "    # layer 1 (input layer) -> layer 2 (hidden layer)\n",
    "    z1 = np.matmul(X, W[0]) + b[0]\n",
    "\n",
    "    # add one more layer\n",
    "\n",
    "    # layer 2 activation\n",
    "    a2 = relu(z1)\n",
    "    # layer 2 (hidden layer) -> layer 3 (output layer)\n",
    "    z2 = np.matmul(a2, W[1])\n",
    "    s = np.exp(z2)\n",
    "    total = np.sum(s, axis=1).reshape(-1, 1)\n",
    "    sigma = s/total\n",
    "    # the output is a probability for each sample\n",
    "    return sigma\n",
    "\n",
    "\n",
    "def softmax(X_in, weights):\n",
    "    '''\n",
    "    Un-used cell for demo\n",
    "    activation function for the last FC layer: softmax function \n",
    "    Output: K probabilities represent an estimate of P(y=k|X_in;weights) for k=1,...,K\n",
    "    the weights has shape (n, K)\n",
    "    n: the number of features X_in has\n",
    "    n = X_in.shape[1]\n",
    "    K: the number of classes\n",
    "    K = 10\n",
    "    '''\n",
    "\n",
    "    s = np.exp(np.matmul(X_in, weights))\n",
    "    total = np.sum(s, axis=1).reshape(-1, 1)\n",
    "    return s / total\n",
    "\n",
    "\n",
    "def loss(y_pred, y_true):\n",
    "    '''\n",
    "    Loss function: cross entropy with an L^2 regularization\n",
    "    y_true: ground truth, of shape (N, )\n",
    "    y_pred: prediction made by the model, of shape (N, K) \n",
    "    N: number of samples in the batch\n",
    "    K: global variable, number of classes\n",
    "    '''\n",
    "    global K\n",
    "    K = 10\n",
    "    N = len(y_true)\n",
    "    # loss_sample stores the cross entropy for each sample in X\n",
    "    # convert y_true from labels to one-hot-vector encoding\n",
    "    y_true_one_hot_vec = (y_true[:, np.newaxis] == np.arange(K))\n",
    "    loss_sample = (np.log(y_pred) * y_true_one_hot_vec).sum(axis=1)\n",
    "    # loss_sample is a dimension (N,) array\n",
    "    # for the final loss, we need take the average\n",
    "    return -np.mean(loss_sample)\n",
    "\n",
    "\n",
    "def backprop(W, b, X, y, alpha=1e-4):\n",
    "    '''\n",
    "    Step 1: explicit forward pass h(X;W,b)\n",
    "    Step 2: backpropagation for dW and db\n",
    "    '''\n",
    "    K = 10\n",
    "    N = X.shape[0]\n",
    "\n",
    "    # Step 1:\n",
    "    # layer 1 = input layer\n",
    "    a1 = X\n",
    "    # layer 1 (input layer) -> layer 2 (hidden layer)\n",
    "    z1 = np.matmul(X, W[0]) + b[0]\n",
    "    # layer 2 activation\n",
    "    a2 = relu(z1)\n",
    "\n",
    "    # one more layer\n",
    "\n",
    "    # layer 2 (hidden layer) -> layer 3 (output layer)\n",
    "    z2 = np.matmul(a2, W[1])\n",
    "    s = np.exp(z2)\n",
    "    total = np.sum(s, axis=1).reshape(-1, 1)\n",
    "    sigma = s/total\n",
    "\n",
    "    # Step 2:\n",
    "\n",
    "    # layer 2->layer 3 weights' derivative\n",
    "    # delta2 is \\partial L/partial z2, of shape (N,K)\n",
    "    y_one_hot_vec = (y[:, np.newaxis] == np.arange(K))\n",
    "    delta2 = (sigma - y_one_hot_vec)\n",
    "    grad_W1 = np.matmul(a2.T, delta2)\n",
    "\n",
    "    # layer 1->layer 2 weights' derivative\n",
    "    # delta1 is \\partial a2/partial z1\n",
    "    # layer 2 activation's (weak) derivative is 1*(z1>0)\n",
    "    delta1 = np.matmul(delta2, W[1].T)*(z1 > 0)\n",
    "    grad_W0 = np.matmul(X.T, delta1)\n",
    "\n",
    "    # Student project: extra layer of derivative\n",
    "\n",
    "    # no derivative for layer 1\n",
    "\n",
    "    # the alpha part is the derivative for the regularization\n",
    "    # regularization = 0.5*alpha*(np.sum(W[1]**2) + np.sum(W[0]**2))\n",
    "\n",
    "    dW = [grad_W0/N + alpha*W[0], grad_W1/N + alpha*W[1]]\n",
    "    db = [np.mean(delta1, axis=0)]\n",
    "    # dW[0] is W[0]'s derivative, and dW[1] is W[1]'s derivative; similar for db\n",
    "    return dW, db\n",
    "\n",
    "\n",
    "eta = 5e-1\n",
    "alpha = 1e-6  # regularization\n",
    "gamma = 0.99  # RMSprop\n",
    "eps = 1e-3  # RMSprop\n",
    "num_iter = 10  # number of iterations of gradient descent\n",
    "n_H = 256  # number of neurons in the hidden layer\n",
    "n = X_train.shape[1]  # number of pixels in an image\n",
    "K = 10\n",
    "\n",
    "# initialization\n",
    "np.random.seed(1127)\n",
    "W = [1e-1*np.random.randn(n, n_H), 1e-1*np.random.randn(n_H, K)]\n",
    "b = [np.random.randn(n_H)]\n",
    "\n",
    "gW0 = gW1 = gb0 = 1\n",
    "\n",
    "acc_array = []\n",
    "\n",
    "for i in range(num_iter):\n",
    "    dW, db = backprop(W, b, X_train, y_train, alpha)\n",
    "\n",
    "    gW0 = gamma*gW0 + (1-gamma)*np.sum(dW[0]**2)\n",
    "    etaW0 = eta/np.sqrt(gW0 + eps)\n",
    "    W[0] -= etaW0 * dW[0]\n",
    "\n",
    "    gW1 = gamma*gW1 + (1-gamma)*np.sum(dW[1]**2)\n",
    "    etaW1 = eta/np.sqrt(gW1 + eps)\n",
    "    W[1] -= etaW1 * dW[1]\n",
    "\n",
    "    gb0 = gamma*gb0 + (1-gamma)*np.sum(db[0]**2)\n",
    "    etab0 = eta/np.sqrt(gb0 + eps)\n",
    "    b[0] -= etab0 * db[0]\n",
    "\n",
    "    y_pred = h(X_train, W, b)\n",
    "    accuracy = np.mean(np.argmax(y_pred, axis=1) == y_train)\n",
    "    print(\"iteration \", i+1, \" accuracy: \", accuracy)\n",
    "    acc_array.append(accuracy)\n",
    "\n",
    "    # reset RMSprop\n",
    "    gW0 = gW1 = gb0 = 1\n",
    "\n",
    "y_pred_final = h(X_train, W, b)\n",
    "print(\"Final cross-entropy loss is {:.8}\".format(loss(y_pred_final, y_train)))\n",
    "print(\"Final training accuracy is {:.4%}\".format(\n",
    "    np.mean(np.argmax(y_pred_final, axis=1) == y_train)))\n",
    "\n",
    "y_pred_test_default = np.argmax(h(X_test, W, b), axis=1)\n",
    "\n",
    "fig_res, axes_res = plt.subplots(2, 5)\n",
    "axes_res = axes_res.flatten()\n",
    "\n",
    "plt.plot(acc_array)\n",
    "\n",
    "for i in range(10):\n",
    "    axes_res[i].imshow(X_test[i, :].reshape(28, 28), cmap='gray')\n",
    "    axes_res[i].axis('off')  # hide the axes ticks\n",
    "    axes_res[i].set_title(str(int(y_pred_test_default[i])),\n",
    "                          color='white', fontsize=25)\n"
   ]
  },
  {
   "cell_type": "code",
   "execution_count": 18,
   "id": "b0283c3c",
   "metadata": {},
   "outputs": [
    {
     "name": "stderr",
     "output_type": "stream",
     "text": [
      "/tmp/ipykernel_32030/1274019874.py:1: VisibleDeprecationWarning: Creating an ndarray from ragged nested sequences (which is a list-or-tuple of lists-or-tuples-or ndarrays with different lengths or shapes) is deprecated. If you meant to do this, you must specify 'dtype=object' when creating the ndarray.\n",
      "  np.savez_compressed('./model_compressed', weights = np.array(W), biases = np.array(b))\n"
     ]
    }
   ],
   "source": [
    "np.savez_compressed('./model_compressed', weights = np.array(W), biases = np.array(b))\n"
   ]
  },
  {
   "cell_type": "code",
   "execution_count": 19,
   "id": "dc6704d2",
   "metadata": {},
   "outputs": [
    {
     "data": {
      "text/plain": [
       "Text(0.5, 1.0, '2')"
      ]
     },
     "execution_count": 19,
     "metadata": {},
     "output_type": "execute_result"
    },
    {
     "data": {
      "image/png": "[encoded data removed]",
      "text/plain": [
       "<Figure size 432x288 with 1 Axes>"
      ]
     },
     "metadata": {
      "needs_background": "light"
     },
     "output_type": "display_data"
    },
    {
     "data": {
      "image/png": "[encoded data removed]",
      "text/plain": [
       "<Figure size 432x288 with 1 Axes>"
      ]
     },
     "metadata": {
      "needs_background": "light"
     },
     "output_type": "display_data"
    }
   ],
   "source": [
    "from PIL import Image\n",
    "import numpy as np\n",
    "from numpy import asarray\n",
    "\n",
    "import matplotlib.pyplot as plt\n",
    "\n",
    "image = Image.open('./img3.png')\n",
    "\n",
    "img_arr = asarray(image)[:, :, 0].flatten()\n",
    "\n",
    "loaded = np.load('./model_compressed.npz', allow_pickle=True)\n",
    "\n",
    "y_pred_test = np.argmax(\n",
    "    h(np.array([img_arr]), loaded[\"weights\"], loaded[\"biases\"]), axis=1)\n",
    "\n",
    "plt.plot(acc_array)\n",
    "fig_res, axes_res = plt.subplots(1, 1)\n",
    "\n",
    "axes_res.imshow(img_arr.reshape(28, 28), cmap='gray')\n",
    "axes_res.axis('off')  # hide the axes ticks\n",
    "axes_res.set_title(str(int(y_pred_test[0])), color='white', fontsize=25)\n"
   ]
  }
 ],
 "metadata": {
  "kernelspec": {
   "display_name": "Python 3 (ipykernel)",
   "language": "python",
   "name": "python3"
  },
  "language_info": {
   "codemirror_mode": {
    "name": "ipython",
    "version": 3
   },
   "file_extension": ".py",
   "mimetype": "text/x-python",
   "name": "python",
   "nbconvert_exporter": "python",
   "pygments_lexer": "ipython3",
   "version": "3.8.10"
  }
 },
 "nbformat": 4,
 "nbformat_minor": 5
}
